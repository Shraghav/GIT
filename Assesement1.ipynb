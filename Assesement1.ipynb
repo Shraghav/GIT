{
  "nbformat": 4,
  "nbformat_minor": 0,
  "metadata": {
    "colab": {
      "provenance": [],
      "authorship_tag": "ABX9TyPskCo7xLjyGOAdV/zrIwY4",
      "include_colab_link": true
    },
    "kernelspec": {
      "name": "python3",
      "display_name": "Python 3"
    },
    "language_info": {
      "name": "python"
    }
  },
  "cells": [
    {
      "cell_type": "markdown",
      "metadata": {
        "id": "view-in-github",
        "colab_type": "text"
      },
      "source": [
        "<a href=\"https://colab.research.google.com/github/Shraghav/GIT/blob/main/Assesement1.ipynb\" target=\"_parent\"><img src=\"https://colab.research.google.com/assets/colab-badge.svg\" alt=\"Open In Colab\"/></a>"
      ]
    },
    {
      "cell_type": "markdown",
      "source": [
        "1) Create a list and a tuple. Perform the following operations in the created list and tuple."
      ],
      "metadata": {
        "id": "5R11wB86Ryvk"
      }
    },
    {
      "cell_type": "code",
      "execution_count": 9,
      "metadata": {
        "colab": {
          "base_uri": "https://localhost:8080/"
        },
        "id": "1cDr8aHnRZVN",
        "outputId": "ca9a7f20-9839-4862-803b-51a1a3954dcc"
      },
      "outputs": [
        {
          "output_type": "stream",
          "name": "stdout",
          "text": [
            "20 3\n"
          ]
        }
      ],
      "source": [
        "#a) accessing elements\n",
        "a=[100,20,80,36,40]\n",
        "b=(1,2,3,4,5,6,7)\n",
        "print(a[1],b[2])"
      ]
    },
    {
      "cell_type": "code",
      "source": [
        "#b) updating existing with new item\n",
        "a[2]=99\n",
        "print(a)"
      ],
      "metadata": {
        "colab": {
          "base_uri": "https://localhost:8080/"
        },
        "id": "8lhov7HbXOAD",
        "outputId": "107dc28d-8383-4727-bab0-d8c5e132863e"
      },
      "execution_count": 10,
      "outputs": [
        {
          "output_type": "stream",
          "name": "stdout",
          "text": [
            "[100, 20, 99, 36, 40]\n"
          ]
        }
      ]
    },
    {
      "cell_type": "code",
      "source": [
        "#c) loop through list and tuple\n",
        "print(\"List elements:\")\n",
        "for i in a:\n",
        "  print(i)\n",
        "print(\"Tuple elements:\")\n",
        "for j in b:\n",
        "  print(j)"
      ],
      "metadata": {
        "colab": {
          "base_uri": "https://localhost:8080/"
        },
        "id": "c_R4BhmBXVfN",
        "outputId": "c9f026d3-7bd8-4567-e600-c6dc10bf854a"
      },
      "execution_count": 11,
      "outputs": [
        {
          "output_type": "stream",
          "name": "stdout",
          "text": [
            "List elements:\n",
            "100\n",
            "20\n",
            "99\n",
            "36\n",
            "40\n",
            "Tuple elements:\n",
            "1\n",
            "2\n",
            "3\n",
            "4\n",
            "5\n",
            "6\n",
            "7\n"
          ]
        }
      ]
    },
    {
      "cell_type": "code",
      "source": [
        "#d) sort, copy , join list\n",
        "a.sort()\n",
        "print(a)\n",
        "\n",
        "copy_a=a.copy()\n",
        "print(a)\n",
        "\n",
        "c=[89,97,34,58]\n",
        "a.extend(c)\n",
        "print(a)"
      ],
      "metadata": {
        "colab": {
          "base_uri": "https://localhost:8080/"
        },
        "id": "LSl_2GmfXll6",
        "outputId": "15651256-57d8-485f-ba62-65274c01124d"
      },
      "execution_count": 14,
      "outputs": [
        {
          "output_type": "stream",
          "name": "stdout",
          "text": [
            "[20, 36, 40, 99, 100]\n",
            "[20, 36, 40, 99, 100]\n",
            "[20, 36, 40, 99, 100, 89, 97, 34, 58]\n"
          ]
        }
      ]
    },
    {
      "cell_type": "code",
      "source": [
        "#e) join tuple\n",
        "tup_1=(1,5,2,6)\n",
        "tup_2=(8,9,5,4)\n",
        "print(tup_1+tup_2)"
      ],
      "metadata": {
        "colab": {
          "base_uri": "https://localhost:8080/"
        },
        "id": "qaTE0Q-zX4Ih",
        "outputId": "14dbbd20-ec04-4b46-cc60-55ed207c5c4d"
      },
      "execution_count": 15,
      "outputs": [
        {
          "output_type": "stream",
          "name": "stdout",
          "text": [
            "(1, 5, 2, 6, 8, 9, 5, 4)\n"
          ]
        }
      ]
    },
    {
      "cell_type": "code",
      "source": [
        "#a) access and change elements\n",
        "dict_a={\"Name\":\"Raghavan\",\"Department\":\"AI&DS\",\"Year\":\"2nd\",\"College\":\"BIT\",\"Home Town\":\"Coimbatore\"}\n",
        "print(dict_a)\n",
        "dict_a['Name']=\"Harish\"\n",
        "print(dict_a)"
      ],
      "metadata": {
        "colab": {
          "base_uri": "https://localhost:8080/"
        },
        "id": "fjv2DTMgYjHw",
        "outputId": "9ada4f9b-969b-4619-f2f6-3c473906bea8"
      },
      "execution_count": 24,
      "outputs": [
        {
          "output_type": "stream",
          "name": "stdout",
          "text": [
            "{'Name': 'Raghavan', 'Department': 'AI&DS', 'Year': '2nd', 'College': 'BIT', 'Home Town': 'Coimbatore'}\n",
            "{'Name': 'Harish', 'Department': 'AI&DS', 'Year': '2nd', 'College': 'BIT', 'Home Town': 'Coimbatore'}\n"
          ]
        }
      ]
    },
    {
      "cell_type": "code",
      "source": [
        "#b) add and remove elements\n",
        "dict_a[\"Year\"]=\"2nd\"\n",
        "dict_a[\"Hobby\"]=\"Relaxing\"\n",
        "print(dict_a)\n",
        "del dict_a[\"Year\"]\n"
      ],
      "metadata": {
        "colab": {
          "base_uri": "https://localhost:8080/"
        },
        "id": "IJUGrtgCbE3r",
        "outputId": "06a2e70a-5091-4531-ed54-a540b3ae7c69"
      },
      "execution_count": 29,
      "outputs": [
        {
          "output_type": "stream",
          "name": "stdout",
          "text": [
            "{'Name': 'Harish', 'Department': 'AI&DS', 'College': 'BIT', 'Home Town': 'Coimbatore', 'Hobby': 'Relaxing', 'Year': '2nd'}\n"
          ]
        }
      ]
    },
    {
      "cell_type": "code",
      "source": [
        "#c) loop through dictionary and copy\n",
        "for k in dict_a.values():\n",
        "  print(k)\n",
        "copy_dict=dict_a.copy()\n",
        "print(copy_dict)"
      ],
      "metadata": {
        "colab": {
          "base_uri": "https://localhost:8080/"
        },
        "id": "vOsqoVQMbRQh",
        "outputId": "424bf853-c8a7-40d8-c05c-239c74b6b420"
      },
      "execution_count": 35,
      "outputs": [
        {
          "output_type": "stream",
          "name": "stdout",
          "text": [
            "Harish\n",
            "AI&DS\n",
            "BIT\n",
            "Coimbatore\n",
            "Relaxing\n",
            "{'Name': 'Harish', 'Department': 'AI&DS', 'College': 'BIT', 'Home Town': 'Coimbatore', 'Hobby': 'Relaxing'}\n"
          ]
        }
      ]
    },
    {
      "cell_type": "code",
      "source": [
        "#d) nested dictionary\n",
        "nested={1:{11:\"Hello\",12:\"Dude\"},2:\"Happy\",3:\"Man\"}\n",
        "print(nested[1])"
      ],
      "metadata": {
        "colab": {
          "base_uri": "https://localhost:8080/"
        },
        "id": "62Ww1KDfb2Rw",
        "outputId": "550b02d7-6e91-44c7-a575-6cfe1a962784"
      },
      "execution_count": 37,
      "outputs": [
        {
          "output_type": "stream",
          "name": "stdout",
          "text": [
            "{11: 'Hello', 12: 'Dude'}\n"
          ]
        }
      ]
    },
    {
      "cell_type": "code",
      "source": [],
      "metadata": {
        "id": "vhh_iTXAd3uV"
      },
      "execution_count": null,
      "outputs": []
    }
  ]
}